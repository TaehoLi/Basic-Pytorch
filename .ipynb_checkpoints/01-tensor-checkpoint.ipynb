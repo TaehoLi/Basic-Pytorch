{
 "cells": [
  {
   "cell_type": "markdown",
   "metadata": {},
   "source": [
    "# 텐서(Tensors)"
   ]
  },
  {
   "cell_type": "markdown",
   "metadata": {},
   "source": [
    "> 2.2.1 장에 해당하는 코드\n",
    "\n",
    "해당 챕터에서는 파이썬의 기본 문법과 numpy 패키지의 사용법은 알고 있다고 가정하고 진행합니다. 파이썬의 문법을 배우시고 싶은 분은 아래 링크를 참고\n",
    "\n",
    "* [모두를 위한 파이썬](https://www.edwith.org/pythonforeverybody)"
   ]
  },
  {
   "cell_type": "code",
   "execution_count": 1,
   "metadata": {},
   "outputs": [
    {
     "name": "stdout",
     "output_type": "stream",
     "text": [
      " torch: 1.1.0 \n",
      " numpy: 1.16.4\n",
      " Use GPU? True\n"
     ]
    }
   ],
   "source": [
    "# 패키지를 불러온다.\n",
    "import matplotlib.pyplot as plt\n",
    "import numpy as np\n",
    "import torch\n",
    "print(\" torch: {} \\n numpy: {}\".format(torch.__version__, np.__version__))\n",
    "print(\" Use GPU? {}\".format(torch.cuda.is_available()))"
   ]
  },
  {
   "cell_type": "markdown",
   "metadata": {},
   "source": [
    "## 텐서를 만드는 방법"
   ]
  },
  {
   "cell_type": "code",
   "execution_count": 2,
   "metadata": {
    "scrolled": true
   },
   "outputs": [
    {
     "name": "stdout",
     "output_type": "stream",
     "text": [
      "tensor([[1., 2., 3.],\n",
      "        [4., 5., 6.]])\n",
      "tensor([[1., 2., 3.],\n",
      "        [4., 5., 6.]])\n"
     ]
    }
   ],
   "source": [
    "# list 로부터 2x3 텐서 생성\n",
    "x_list = [[1, 2, 3], [4, 5, 6]]\n",
    "x = torch.Tensor(x_list)\n",
    "print(x)\n",
    "\n",
    "# numpy array 로부터 2x3 텐서 생성\n",
    "x_numpy = np.array([[1, 2, 3], [4, 5, 6]])\n",
    "x = torch.Tensor(x_numpy)\n",
    "print(x)"
   ]
  },
  {
   "cell_type": "markdown",
   "metadata": {},
   "source": [
    "다시 원래 자료형태로 복귀"
   ]
  },
  {
   "cell_type": "code",
   "execution_count": 3,
   "metadata": {},
   "outputs": [
    {
     "name": "stdout",
     "output_type": "stream",
     "text": [
      "<class 'list'>\n",
      "<class 'numpy.ndarray'>\n"
     ]
    }
   ],
   "source": [
    "# .tolist()\n",
    "x_back2list = x.tolist()\n",
    "print(type(x_back2list))\n",
    "\n",
    "# .numpy()\n",
    "x_back2numpy = x.numpy()\n",
    "print(type(x_back2numpy))"
   ]
  },
  {
   "cell_type": "markdown",
   "metadata": {},
   "source": [
    "gpu 사용하기"
   ]
  },
  {
   "cell_type": "code",
   "execution_count": 4,
   "metadata": {
    "scrolled": true
   },
   "outputs": [
    {
     "name": "stdout",
     "output_type": "stream",
     "text": [
      "cpu\n",
      "cuda:0\n",
      "cpu\n"
     ]
    }
   ],
   "source": [
    "# 기본 device 정보\n",
    "print(x.device)\n",
    "\n",
    "device = 'cuda'\n",
    "# GPU 사용\n",
    "x = x.to(device)\n",
    "print(x.device)\n",
    "\n",
    "device = 'cpu'\n",
    "# CPU 사용\n",
    "x = x.to(device)\n",
    "print(x.device)"
   ]
  },
  {
   "cell_type": "markdown",
   "metadata": {},
   "source": [
    "랜덤 텐서 생성"
   ]
  },
  {
   "cell_type": "code",
   "execution_count": 5,
   "metadata": {},
   "outputs": [
    {
     "name": "stdout",
     "output_type": "stream",
     "text": [
      "tensor([[0.5019, 0.9008, 0.3266],\n",
      "        [0.7026, 0.7761, 0.3049]])\n",
      "tensor([[1, 7, 4],\n",
      "        [3, 1, 4]])\n"
     ]
    }
   ],
   "source": [
    "# 랜덤 숫자로 구성된 크기가 2x3 인 텐서 생성\n",
    "# 0과 1사이의 랜덤한 숫자\n",
    "print(torch.rand(2, 3))\n",
    "\n",
    "# 0과 8 사이의 정수형 랜덤한 숫자\n",
    "print(torch.randint(low=0, high=8, size=(2, 3)))"
   ]
  },
  {
   "cell_type": "markdown",
   "metadata": {},
   "source": [
    "`torch.zeros_like`, `torch.ones_like` "
   ]
  },
  {
   "cell_type": "code",
   "execution_count": 6,
   "metadata": {},
   "outputs": [
    {
     "name": "stdout",
     "output_type": "stream",
     "text": [
      "cuda:0\n",
      "tensor([[0., 0., 0.],\n",
      "        [0., 0., 0.]], device='cuda:0')\n"
     ]
    }
   ],
   "source": [
    "# GPU를 사용하고 크기가 x 와 같은 0으로 채워진 텐서 생성\n",
    "x_zeros = torch.zeros_like(x.cuda())\n",
    "print(x_zeros.device)\n",
    "print(x_zeros)"
   ]
  },
  {
   "cell_type": "markdown",
   "metadata": {},
   "source": [
    "## 텐서의 타입(type)"
   ]
  },
  {
   "cell_type": "code",
   "execution_count": 7,
   "metadata": {},
   "outputs": [
    {
     "name": "stdout",
     "output_type": "stream",
     "text": [
      "torch.FloatTensor\n",
      "tensor([[1., 2., 3.],\n",
      "        [4., 5., 6.]])\n",
      "torch.LongTensor\n",
      "tensor([[1, 2, 3],\n",
      "        [4, 5, 6]])\n",
      "torch.ByteTensor\n",
      "tensor([1, 0, 1, 1], dtype=torch.uint8)\n"
     ]
    }
   ],
   "source": [
    "# 실수형 텐서\n",
    "a = torch.FloatTensor(np.array([[1, 2, 3], [4, 5, 6]]))\n",
    "print(a.type())\n",
    "print(a)\n",
    "\n",
    "# 정수형 텐서\n",
    "b = torch.LongTensor(np.array([[1, 2, 3], [4, 5, 6]]))\n",
    "print(b.type())\n",
    "print(b)\n",
    "\n",
    "# 8 bit 정수형\n",
    "c = torch.ByteTensor([True, False, True, True])\n",
    "print(c.type())\n",
    "print(c)"
   ]
  },
  {
   "cell_type": "markdown",
   "metadata": {},
   "source": [
    "## Tensor Manipulation\n",
    "\n",
    "### Slicing"
   ]
  },
  {
   "cell_type": "code",
   "execution_count": 8,
   "metadata": {},
   "outputs": [
    {
     "name": "stdout",
     "output_type": "stream",
     "text": [
      "tensor([[[5, 9, 1, 8],\n",
      "         [5, 7, 7, 7],\n",
      "         [3, 4, 1, 7]],\n",
      "\n",
      "        [[2, 0, 6, 3],\n",
      "         [2, 3, 0, 0],\n",
      "         [9, 5, 4, 2]]])\n"
     ]
    }
   ],
   "source": [
    "torch.manual_seed(777)\n",
    "x = torch.randint(0, 10, size=(2, 3, 4))\n",
    "print(x)"
   ]
  },
  {
   "cell_type": "code",
   "execution_count": 9,
   "metadata": {
    "scrolled": true
   },
   "outputs": [
    {
     "name": "stdout",
     "output_type": "stream",
     "text": [
      "tensor(7)\n"
     ]
    }
   ],
   "source": [
    "print(x[0, 2, 3])"
   ]
  },
  {
   "cell_type": "code",
   "execution_count": 10,
   "metadata": {},
   "outputs": [],
   "source": [
    "def draw_tensor(temp):\n",
    "    \"\"\"tensor drawing in ch3\"\"\"\n",
    "    fig, axes = plt.subplots(len(temp), 1)\n",
    "    for i in range(len(temp)):\n",
    "        axes[i].matshow(temp.numpy()[i], vmin=0, vmax=1, cmap='gray')\n",
    "    plt.show()"
   ]
  },
  {
   "cell_type": "code",
   "execution_count": 11,
   "metadata": {},
   "outputs": [
    {
     "data": {
      "image/png": "[encoded data removed]",
      "text/plain": [
       "<Figure size 432x288 with 2 Axes>"
      ]
     },
     "metadata": {
      "needs_background": "light"
     },
     "output_type": "display_data"
    }
   ],
   "source": [
    "# 선택한 텐서를 시각화 한다.\n",
    "temp = torch.ones_like(x)\n",
    "temp[0, 2, 3] = 0\n",
    "draw_tensor(temp)"
   ]
  },
  {
   "cell_type": "code",
   "execution_count": 12,
   "metadata": {},
   "outputs": [
    {
     "name": "stdout",
     "output_type": "stream",
     "text": [
      "tensor([8, 7])\n"
     ]
    }
   ],
   "source": [
    "print(x[0, :2, 3])"
   ]
  },
  {
   "cell_type": "code",
   "execution_count": 13,
   "metadata": {},
   "outputs": [
    {
     "data": {
      "image/png": "[encoded data removed]",
      "text/plain": [
       "<Figure size 432x288 with 2 Axes>"
      ]
     },
     "metadata": {
      "needs_background": "light"
     },
     "output_type": "display_data"
    }
   ],
   "source": [
    "# 선택한 텐서를 시각화 한다.\n",
    "temp = torch.ones_like(x)\n",
    "temp[0, :2, 3] = 0\n",
    "draw_tensor(temp)"
   ]
  },
  {
   "cell_type": "code",
   "execution_count": 14,
   "metadata": {},
   "outputs": [
    {
     "data": {
      "text/plain": [
       "tensor([4, 1, 7])"
      ]
     },
     "execution_count": 14,
     "metadata": {},
     "output_type": "execute_result"
    }
   ],
   "source": [
    "x[0, 2, 1:]"
   ]
  },
  {
   "cell_type": "code",
   "execution_count": 15,
   "metadata": {},
   "outputs": [
    {
     "data": {
      "image/png": "[encoded data removed]",
      "text/plain": [
       "<Figure size 432x288 with 2 Axes>"
      ]
     },
     "metadata": {
      "needs_background": "light"
     },
     "output_type": "display_data"
    }
   ],
   "source": [
    "temp = torch.ones_like(x)\n",
    "temp[0, 2, 1:] = 0\n",
    "fig = draw_tensor(temp)"
   ]
  },
  {
   "cell_type": "code",
   "execution_count": 16,
   "metadata": {},
   "outputs": [
    {
     "name": "stdout",
     "output_type": "stream",
     "text": [
      "tensor([4])\n"
     ]
    }
   ],
   "source": [
    "print(x[0, 2, 1:2])"
   ]
  },
  {
   "cell_type": "code",
   "execution_count": 17,
   "metadata": {},
   "outputs": [
    {
     "data": {
      "image/png": "[encoded data removed]",
      "text/plain": [
       "<Figure size 432x288 with 2 Axes>"
      ]
     },
     "metadata": {
      "needs_background": "light"
     },
     "output_type": "display_data"
    }
   ],
   "source": [
    "temp = torch.ones_like(x)\n",
    "temp[0, 2, 1:2] = 0\n",
    "fig = draw_tensor(temp)"
   ]
  },
  {
   "cell_type": "code",
   "execution_count": 18,
   "metadata": {},
   "outputs": [
    {
     "name": "stdout",
     "output_type": "stream",
     "text": [
      "tensor([3, 4, 1, 7])\n"
     ]
    }
   ],
   "source": [
    "print(x[0, 2, :])"
   ]
  },
  {
   "cell_type": "code",
   "execution_count": 19,
   "metadata": {},
   "outputs": [
    {
     "data": {
      "image/png": "[encoded data removed]",
      "text/plain": [
       "<Figure size 432x288 with 2 Axes>"
      ]
     },
     "metadata": {
      "needs_background": "light"
     },
     "output_type": "display_data"
    }
   ],
   "source": [
    "temp = torch.ones_like(x)\n",
    "temp[0, 2, :] = 0\n",
    "fig = draw_tensor(temp)"
   ]
  },
  {
   "cell_type": "markdown",
   "metadata": {},
   "source": [
    "### view"
   ]
  },
  {
   "cell_type": "code",
   "execution_count": 20,
   "metadata": {
    "scrolled": true
   },
   "outputs": [
    {
     "name": "stdout",
     "output_type": "stream",
     "text": [
      "tensor([[[5, 9, 1, 8, 5, 7],\n",
      "         [7, 7, 3, 4, 1, 7]],\n",
      "\n",
      "        [[2, 0, 6, 3, 2, 3],\n",
      "         [0, 0, 9, 5, 4, 2]]])\n",
      "tensor([[[5, 9, 1, 8, 5, 7, 7, 7, 3, 4, 1, 7]],\n",
      "\n",
      "        [[2, 0, 6, 3, 2, 3, 0, 0, 9, 5, 4, 2]]])\n"
     ]
    }
   ],
   "source": [
    "# 크기가 (2, 3, 4) 3차원 텐서를 (2, 2, 6) 으로 변경\n",
    "print(x.view(2, 2, 6))\n",
    "\n",
    "# 크기가 (2, 3, 4) 3차원 텐서를 (1, 1, 12) 으로 변경\n",
    "print(x.view(-1, 1, 12))"
   ]
  },
  {
   "cell_type": "markdown",
   "metadata": {},
   "source": [
    "### transpose"
   ]
  },
  {
   "cell_type": "code",
   "execution_count": 21,
   "metadata": {},
   "outputs": [
    {
     "name": "stdout",
     "output_type": "stream",
     "text": [
      "torch.Size([3, 2, 4])\n",
      "tensor([[[5, 9, 1, 8],\n",
      "         [2, 0, 6, 3]],\n",
      "\n",
      "        [[5, 7, 7, 7],\n",
      "         [2, 3, 0, 0]],\n",
      "\n",
      "        [[3, 4, 1, 7],\n",
      "         [9, 5, 4, 2]]])\n"
     ]
    }
   ],
   "source": [
    "# (2, 3, 4) 크기의 텐서의 첫번째 차원과 두번째 차원이 바뀐다.\n",
    "x_transposed = x.transpose(0, 1)\n",
    "print(x_transposed.size())\n",
    "print(x_transposed)"
   ]
  },
  {
   "cell_type": "code",
   "execution_count": 22,
   "metadata": {},
   "outputs": [
    {
     "data": {
      "text/plain": [
       "tensor([[1., 4.],\n",
       "        [2., 5.],\n",
       "        [3., 6.]])"
      ]
     },
     "execution_count": 22,
     "metadata": {},
     "output_type": "execute_result"
    }
   ],
   "source": [
    "# (2, 3) 크기의 행렬 생성\n",
    "A = torch.Tensor([[1, 2, 3], \n",
    "                  [4, 5, 6]])  \n",
    "# 크기가 (3, 2) 이 되었다.\n",
    "A.t()  "
   ]
  },
  {
   "cell_type": "markdown",
   "metadata": {},
   "source": [
    "## squeeze & unsqueeze"
   ]
  },
  {
   "cell_type": "code",
   "execution_count": 23,
   "metadata": {},
   "outputs": [
    {
     "name": "stdout",
     "output_type": "stream",
     "text": [
      "torch.Size([2, 3, 4])\n",
      "torch.Size([2, 3, 4, 1])\n",
      "torch.Size([2, 1, 3, 1, 4, 1])\n"
     ]
    }
   ],
   "source": [
    "# 크기가 (2, 1, 3, 4, 1) 인 5차원 텐서를 생성한다\n",
    "x = torch.rand((2, 1, 3, 4, 1))  \n",
    "\n",
    "# 모든 차원에서 크기가 1인 차원을 squeeze 한다.\n",
    "print(x.squeeze().size())  # 크기확인\n",
    "\n",
    "# 두번째 차원(크기 = 1)을 squeeze 한다.\n",
    "print(x.squeeze(1).size())  # 크기확인\n",
    "\n",
    "# 4번째 차원에 크기를 1 추가, 6차원 텐서가 된다.\n",
    "print(x.unsqueeze(3).size())  # 크기확인"
   ]
  },
  {
   "cell_type": "markdown",
   "metadata": {},
   "source": [
    "### cat & stack"
   ]
  },
  {
   "cell_type": "code",
   "execution_count": 24,
   "metadata": {},
   "outputs": [],
   "source": [
    "def draw_tensor2(x):\n",
    "    \"\"\"tensor drawing in ch3: cat&stack\"\"\"\n",
    "    subplot_size = 1 if x.ndimension() <= 2 else x.size(0)\n",
    "    fig, axes = plt.subplots(subplot_size, 1)\n",
    "    if subplot_size == 1: \n",
    "        axes.matshow(x.numpy(), vmin=0, vmax=1, cmap='gray')\n",
    "    else:\n",
    "        for i in range(subplot_size):\n",
    "            axes[i].matshow(x.numpy()[i], vmin=0, vmax=1, cmap='gray')\n",
    "    plt.show()"
   ]
  },
  {
   "cell_type": "code",
   "execution_count": 25,
   "metadata": {},
   "outputs": [
    {
     "name": "stdout",
     "output_type": "stream",
     "text": [
      "tensor([[0.0819, 0.4911, 0.4033],\n",
      "        [0.3859, 0.8813, 0.8811],\n",
      "        [0.7242, 0.5033, 0.8249],\n",
      "        [0.2634, 0.3112, 0.5948]])\n"
     ]
    },
    {
     "data": {
      "image/png": "[encoded data removed]",
      "text/plain": [
       "<Figure size 432x288 with 1 Axes>"
      ]
     },
     "metadata": {
      "needs_background": "light"
     },
     "output_type": "display_data"
    }
   ],
   "source": [
    "torch.manual_seed(777)\n",
    "# 크기가 (2, 3) 인 A, B 텐서를 만든다\n",
    "A = torch.rand((2, 3))\n",
    "B = torch.rand((2, 3))\n",
    "# 첫번째 차원을 기준으로 텐서를 concatenate 한다.\n",
    "AB_cated = torch.cat([A, B], dim=0)\n",
    "print(AB_cated)\n",
    "\n",
    "# 시각화\n",
    "draw_tensor2(AB_cated)"
   ]
  },
  {
   "cell_type": "code",
   "execution_count": 26,
   "metadata": {},
   "outputs": [
    {
     "name": "stdout",
     "output_type": "stream",
     "text": [
      "tensor([[[0.0819, 0.4911, 0.4033],\n",
      "         [0.3859, 0.8813, 0.8811]],\n",
      "\n",
      "        [[0.7242, 0.5033, 0.8249],\n",
      "         [0.2634, 0.3112, 0.5948]]])\n",
      "tensor([[[0.0819, 0.4911, 0.4033],\n",
      "         [0.3859, 0.8813, 0.8811]],\n",
      "\n",
      "        [[0.7242, 0.5033, 0.8249],\n",
      "         [0.2634, 0.3112, 0.5948]]])\n"
     ]
    },
    {
     "data": {
      "image/png": "[encoded data removed]",
      "text/plain": [
       "<Figure size 432x288 with 2 Axes>"
      ]
     },
     "metadata": {
      "needs_background": "light"
     },
     "output_type": "display_data"
    }
   ],
   "source": [
    "# 첫번째 차원을 기준으로 텐서를 stack 한다.\n",
    "AB_stacked = torch.stack([A, B], dim=0)\n",
    "print(AB_stacked)\n",
    "\n",
    "# 각 텐서를 첫번째 차원 기준으로 unsqueeze 후, cat 한것과 같은 결과\n",
    "AB_unsqueeze_cat = torch.cat([A.unsqueeze(0), B.unsqueeze(0)], dim=0)\n",
    "print(AB_unsqueeze_cat)\n",
    "\n",
    "# 시각화\n",
    "draw_tensor2(AB_stacked)"
   ]
  },
  {
   "cell_type": "markdown",
   "metadata": {},
   "source": [
    "## 텐서의 사칙연산: add / multiplication\n",
    "\n",
    "### 텐서의 덧셈과 뺄셈"
   ]
  },
  {
   "cell_type": "code",
   "execution_count": 27,
   "metadata": {},
   "outputs": [
    {
     "name": "stdout",
     "output_type": "stream",
     "text": [
      "tensor([5., 7., 9.])\n",
      "tensor([-3., -3., -3.])\n",
      "tensor([2., 3., 4.])\n",
      "tensor([0., 1., 2.])\n"
     ]
    }
   ],
   "source": [
    "# x, y 크기가 3인 1차원 벡터 생성\n",
    "x = torch.Tensor([1, 2, 3])\n",
    "y = torch.Tensor([4, 5, 6])\n",
    "\n",
    "# 같은 크기의 벡터간 덧셈\n",
    "print(torch.add(x, y))\n",
    "\n",
    "# 같은 크기의 벡터간 뺄셈\n",
    "print(torch.sub(x, y))\n",
    "\n",
    "# 벡터 + 스칼라\n",
    "print(x+1)\n",
    "\n",
    "# 벡터 - 스칼라\n",
    "print(x-1)"
   ]
  },
  {
   "cell_type": "markdown",
   "metadata": {},
   "source": [
    "### 텐서의 곱셈"
   ]
  },
  {
   "cell_type": "code",
   "execution_count": 28,
   "metadata": {},
   "outputs": [
    {
     "name": "stdout",
     "output_type": "stream",
     "text": [
      "tensor([ 4., 10., 18.])\n",
      "tensor([ 4., 10., 18.])\n",
      "tensor([0.2500, 0.4000, 0.5000])\n",
      "tensor([0.2500, 0.4000, 0.5000])\n"
     ]
    }
   ],
   "source": [
    "# 곱셈\n",
    "print(x * y)\n",
    "print(torch.mul(x, y))\n",
    "\n",
    "# 나눗셈\n",
    "print(x / y)\n",
    "print(torch.div(x, y))"
   ]
  },
  {
   "cell_type": "code",
   "execution_count": 29,
   "metadata": {},
   "outputs": [
    {
     "name": "stdout",
     "output_type": "stream",
     "text": [
      "inner product: \n",
      "tensor(32.)\n",
      "tensor(32.)\n"
     ]
    }
   ],
   "source": [
    "print(\"inner product: \")\n",
    "print(torch.dot(x, y))\n",
    "print(x.dot(y))"
   ]
  },
  {
   "cell_type": "code",
   "execution_count": 30,
   "metadata": {},
   "outputs": [
    {
     "name": "stdout",
     "output_type": "stream",
     "text": [
      "tensor([[39., 49.],\n",
      "        [54., 68.],\n",
      "        [69., 87.]])\n",
      "tensor([[39., 49.],\n",
      "        [54., 68.],\n",
      "        [69., 87.]])\n"
     ]
    }
   ],
   "source": [
    "# (3, 2) 크기의 X 텐서와 (2, 2) 크기의 Y 텐서를 생성한다.\n",
    "X = torch.Tensor([[1, 4], [2, 5], [3, 6]])\n",
    "Y = torch.Tensor([[7, 9], [8, 10]])\n",
    "\n",
    "# 행렬의 곱셈을 한다.\n",
    "print(torch.mm(X, Y))\n",
    "print(X.mm(Y))"
   ]
  },
  {
   "cell_type": "markdown",
   "metadata": {},
   "source": [
    "## 기초연산: \n",
    "\n",
    "### sum / mean"
   ]
  },
  {
   "cell_type": "code",
   "execution_count": 31,
   "metadata": {},
   "outputs": [
    {
     "name": "stdout",
     "output_type": "stream",
     "text": [
      "tensor(36.)\n",
      "tensor(4.5000)\n",
      "tensor([[ 6.,  8.],\n",
      "        [10., 12.]])\n",
      "tensor([[3., 4.],\n",
      "        [5., 6.]])\n"
     ]
    }
   ],
   "source": [
    "# (2, 2, 2) 크기의 3차원 텐서 Z 를 생성한다.\n",
    "Z = torch.Tensor([[[1, 2], [3, 4]], [[5, 6], [7, 8]]])\n",
    "\n",
    "# 텐서의 모든 원소의 합 혹은 평균을 구한다.\n",
    "print(torch.sum(Z))\n",
    "print(torch.mean(Z))\n",
    "\n",
    "# 지정한 차원의 합을 축소시키면서 합 혹은 평균을 구한다.\n",
    "print(torch.sum(Z, dim=0))\n",
    "print(torch.mean(Z, dim=0))"
   ]
  },
  {
   "cell_type": "markdown",
   "metadata": {},
   "source": [
    "### max & argmax / min & argmin "
   ]
  },
  {
   "cell_type": "code",
   "execution_count": 32,
   "metadata": {},
   "outputs": [
    {
     "name": "stdout",
     "output_type": "stream",
     "text": [
      "tensor(8.)\n",
      "tensor(7)\n",
      "tensor(1.)\n",
      "tensor(0)\n",
      "torch.return_types.max(\n",
      "values=tensor([[5., 6.],\n",
      "        [7., 8.]]),\n",
      "indices=tensor([[1, 1],\n",
      "        [1, 1]]))\n",
      "torch.return_types.min(\n",
      "values=tensor([[1., 2.],\n",
      "        [3., 4.]]),\n",
      "indices=tensor([[0, 0],\n",
      "        [0, 0]]))\n"
     ]
    }
   ],
   "source": [
    "# 텐서의 모든 원소중 최대값 및 최대값의 위치 구하기\n",
    "print(torch.max(Z))\n",
    "print(torch.argmax(Z))\n",
    "\n",
    "# 텐서의 모든 원소중 최소값 및 최소값의 위치 구하기\n",
    "print(torch.min(Z))\n",
    "print(torch.argmin(Z))\n",
    "\n",
    "# 차원 지정시 지정된 차원을 기준으로 차원이 축소 되면서 \n",
    "# 최대값 및 위치 혹은 최소값 및 위치를 가진 튜플(tuple)을 반환한다.\n",
    "print(torch.max(Z, dim=0))\n",
    "print(torch.min(Z, dim=0))"
   ]
  },
  {
   "cell_type": "markdown",
   "metadata": {},
   "source": [
    "### 논리연산"
   ]
  },
  {
   "cell_type": "code",
   "execution_count": 33,
   "metadata": {},
   "outputs": [
    {
     "name": "stdout",
     "output_type": "stream",
     "text": [
      "tensor([0, 0, 1], dtype=torch.uint8)\n",
      "tensor([0, 0, 1], dtype=torch.uint8)\n",
      "tensor([0, 1, 1], dtype=torch.uint8)\n",
      "tensor([0, 1, 1], dtype=torch.uint8)\n",
      "tensor([0, 1, 0], dtype=torch.uint8)\n",
      "tensor([0, 1, 0], dtype=torch.uint8)\n",
      "tensor([1, 0, 1], dtype=torch.uint8)\n",
      "tensor([1, 0, 1], dtype=torch.uint8)\n",
      "tensor([1, 0, 0], dtype=torch.uint8)\n",
      "tensor([1, 0, 0], dtype=torch.uint8)\n"
     ]
    }
   ],
   "source": [
    "# 크기가 3인 벡터를 생성\n",
    "z = torch.Tensor([-3, 2, 0])\n",
    "\n",
    "# 0과 같다\n",
    "print(z.eq(0))\n",
    "print(z == 0)\n",
    "\n",
    "# 0 보다 크거나 같다\n",
    "print(z.ge(0))\n",
    "print(z >= 0)\n",
    "\n",
    "# 0보다 크다\n",
    "print(z.gt(0))\n",
    "print(z > 0)\n",
    "\n",
    "# 0보다 작거나 같다\n",
    "print(z.le(0))\n",
    "print(z <= 0)\n",
    "\n",
    "# 0보다 작다\n",
    "print(z.lt(0))\n",
    "print(z < 0)"
   ]
  },
  {
   "cell_type": "code",
   "execution_count": null,
   "metadata": {},
   "outputs": [],
   "source": []
  }
 ],
 "metadata": {
  "kernelspec": {
   "display_name": "Python 3",
   "language": "python",
   "name": "python3"
  },
  "language_info": {
   "codemirror_mode": {
    "name": "ipython",
    "version": 3
   },
   "file_extension": ".py",
   "mimetype": "text/x-python",
   "name": "python",
   "nbconvert_exporter": "python",
   "pygments_lexer": "ipython3",
   "version": "3.7.3"
  }
 },
 "nbformat": 4,
 "nbformat_minor": 2
}
